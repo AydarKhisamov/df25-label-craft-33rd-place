{
 "cells": [
  {
   "cell_type": "code",
   "execution_count": 1,
   "metadata": {
    "_cell_guid": "b1076dfc-b9ad-4769-8c92-a6c4dae69d19",
    "_uuid": "8f2839f25d086af736a60e9eeb907d3b93b6e0e5",
    "execution": {
     "iopub.execute_input": "2025-04-23T07:27:56.548338Z",
     "iopub.status.busy": "2025-04-23T07:27:56.547891Z",
     "iopub.status.idle": "2025-04-23T07:27:58.896880Z",
     "shell.execute_reply": "2025-04-23T07:27:58.895956Z",
     "shell.execute_reply.started": "2025-04-23T07:27:56.548306Z"
    }
   },
   "outputs": [],
   "source": [
    "from warnings import filterwarnings\n",
    "filterwarnings('ignore')\n",
    "\n",
    "import json\n",
    "import pandas as pd"
   ]
  },
  {
   "cell_type": "markdown",
   "metadata": {},
   "source": [
    "# Категориальное древо"
   ]
  },
  {
   "cell_type": "code",
   "execution_count": 6,
   "metadata": {
    "execution": {
     "iopub.execute_input": "2025-04-23T07:34:13.232870Z",
     "iopub.status.busy": "2025-04-23T07:34:13.232329Z",
     "iopub.status.idle": "2025-04-23T07:34:13.262878Z",
     "shell.execute_reply": "2025-04-23T07:34:13.262108Z",
     "shell.execute_reply.started": "2025-04-23T07:34:13.232835Z"
    }
   },
   "outputs": [
    {
     "data": {
      "text/html": [
       "<div>\n",
       "<style scoped>\n",
       "    .dataframe tbody tr th:only-of-type {\n",
       "        vertical-align: middle;\n",
       "    }\n",
       "\n",
       "    .dataframe tbody tr th {\n",
       "        vertical-align: top;\n",
       "    }\n",
       "\n",
       "    .dataframe thead th {\n",
       "        text-align: right;\n",
       "    }\n",
       "</style>\n",
       "<table border=\"1\" class=\"dataframe\">\n",
       "  <thead>\n",
       "    <tr style=\"text-align: right;\">\n",
       "      <th></th>\n",
       "      <th>cat_id</th>\n",
       "      <th>parent_id</th>\n",
       "      <th>cat_name</th>\n",
       "    </tr>\n",
       "  </thead>\n",
       "  <tbody>\n",
       "    <tr>\n",
       "      <th>0</th>\n",
       "      <td>1</td>\n",
       "      <td>NaN</td>\n",
       "      <td>Электроника</td>\n",
       "    </tr>\n",
       "    <tr>\n",
       "      <th>1</th>\n",
       "      <td>2</td>\n",
       "      <td>NaN</td>\n",
       "      <td>Ноутбуки и компьютеры</td>\n",
       "    </tr>\n",
       "    <tr>\n",
       "      <th>2</th>\n",
       "      <td>3</td>\n",
       "      <td>NaN</td>\n",
       "      <td>Бытовая техника</td>\n",
       "    </tr>\n",
       "    <tr>\n",
       "      <th>3</th>\n",
       "      <td>4</td>\n",
       "      <td>NaN</td>\n",
       "      <td>Детские товары</td>\n",
       "    </tr>\n",
       "    <tr>\n",
       "      <th>4</th>\n",
       "      <td>5</td>\n",
       "      <td>NaN</td>\n",
       "      <td>Дача, сад и огород</td>\n",
       "    </tr>\n",
       "  </tbody>\n",
       "</table>\n",
       "</div>"
      ],
      "text/plain": [
       "   cat_id  parent_id               cat_name\n",
       "0       1        NaN            Электроника\n",
       "1       2        NaN  Ноутбуки и компьютеры\n",
       "2       3        NaN        Бытовая техника\n",
       "3       4        NaN         Детские товары\n",
       "4       5        NaN     Дача, сад и огород"
      ]
     },
     "execution_count": 6,
     "metadata": {},
     "output_type": "execute_result"
    }
   ],
   "source": [
    "cat_tree = pd.read_csv('data/category_tree.csv')\n",
    "cat_tree.head()"
   ]
  },
  {
   "cell_type": "markdown",
   "metadata": {},
   "source": [
    "##### Встречаются и одинаковые оглавления категорий. Иногда они являются дубликатами, иногда - нет, как в случае с \"аксессуарами\", которые могут относиться к чему угодно."
   ]
  },
  {
   "cell_type": "code",
   "execution_count": 8,
   "metadata": {
    "execution": {
     "iopub.execute_input": "2025-04-23T07:40:46.978234Z",
     "iopub.status.busy": "2025-04-23T07:40:46.977865Z",
     "iopub.status.idle": "2025-04-23T07:40:46.992570Z",
     "shell.execute_reply": "2025-04-23T07:40:46.991485Z",
     "shell.execute_reply.started": "2025-04-23T07:40:46.978206Z"
    }
   },
   "outputs": [
    {
     "data": {
      "text/html": [
       "<div>\n",
       "<style scoped>\n",
       "    .dataframe tbody tr th:only-of-type {\n",
       "        vertical-align: middle;\n",
       "    }\n",
       "\n",
       "    .dataframe tbody tr th {\n",
       "        vertical-align: top;\n",
       "    }\n",
       "\n",
       "    .dataframe thead th {\n",
       "        text-align: right;\n",
       "    }\n",
       "</style>\n",
       "<table border=\"1\" class=\"dataframe\">\n",
       "  <thead>\n",
       "    <tr style=\"text-align: right;\">\n",
       "      <th></th>\n",
       "      <th>cat_id</th>\n",
       "      <th>parent_id</th>\n",
       "      <th>cat_name</th>\n",
       "    </tr>\n",
       "  </thead>\n",
       "  <tbody>\n",
       "    <tr>\n",
       "      <th>339</th>\n",
       "      <td>1280</td>\n",
       "      <td>123.0</td>\n",
       "      <td>4K гейминг</td>\n",
       "    </tr>\n",
       "    <tr>\n",
       "      <th>210</th>\n",
       "      <td>445</td>\n",
       "      <td>28.0</td>\n",
       "      <td>4K гейминг</td>\n",
       "    </tr>\n",
       "    <tr>\n",
       "      <th>309</th>\n",
       "      <td>1195</td>\n",
       "      <td>114.0</td>\n",
       "      <td>DJ-оборудование</td>\n",
       "    </tr>\n",
       "    <tr>\n",
       "      <th>920</th>\n",
       "      <td>3538</td>\n",
       "      <td>459.0</td>\n",
       "      <td>DJ-оборудование</td>\n",
       "    </tr>\n",
       "    <tr>\n",
       "      <th>337</th>\n",
       "      <td>1276</td>\n",
       "      <td>123.0</td>\n",
       "      <td>Nintendo</td>\n",
       "    </tr>\n",
       "    <tr>\n",
       "      <th>...</th>\n",
       "      <td>...</td>\n",
       "      <td>...</td>\n",
       "      <td>...</td>\n",
       "    </tr>\n",
       "    <tr>\n",
       "      <th>549</th>\n",
       "      <td>2015</td>\n",
       "      <td>202.0</td>\n",
       "      <td>Электробритвы мужские</td>\n",
       "    </tr>\n",
       "    <tr>\n",
       "      <th>0</th>\n",
       "      <td>1</td>\n",
       "      <td>NaN</td>\n",
       "      <td>Электроника</td>\n",
       "    </tr>\n",
       "    <tr>\n",
       "      <th>307</th>\n",
       "      <td>1185</td>\n",
       "      <td>113.0</td>\n",
       "      <td>Электроника</td>\n",
       "    </tr>\n",
       "    <tr>\n",
       "      <th>413</th>\n",
       "      <td>1426</td>\n",
       "      <td>139.0</td>\n",
       "      <td>Эпиляторы и женские электробритвы</td>\n",
       "    </tr>\n",
       "    <tr>\n",
       "      <th>550</th>\n",
       "      <td>2016</td>\n",
       "      <td>202.0</td>\n",
       "      <td>Эпиляторы и женские электробритвы</td>\n",
       "    </tr>\n",
       "  </tbody>\n",
       "</table>\n",
       "<p>349 rows × 3 columns</p>\n",
       "</div>"
      ],
      "text/plain": [
       "     cat_id  parent_id                           cat_name\n",
       "339    1280      123.0                         4K гейминг\n",
       "210     445       28.0                         4K гейминг\n",
       "309    1195      114.0                    DJ-оборудование\n",
       "920    3538      459.0                    DJ-оборудование\n",
       "337    1276      123.0                           Nintendo\n",
       "..      ...        ...                                ...\n",
       "549    2015      202.0              Электробритвы мужские\n",
       "0         1        NaN                        Электроника\n",
       "307    1185      113.0                        Электроника\n",
       "413    1426      139.0  Эпиляторы и женские электробритвы\n",
       "550    2016      202.0  Эпиляторы и женские электробритвы\n",
       "\n",
       "[349 rows x 3 columns]"
      ]
     },
     "execution_count": 8,
     "metadata": {},
     "output_type": "execute_result"
    }
   ],
   "source": [
    "cat_tree[cat_tree['cat_name'].duplicated(keep=False)].sort_values('cat_name')"
   ]
  },
  {
   "cell_type": "markdown",
   "metadata": {},
   "source": [
    "# Размеченная выборка"
   ]
  },
  {
   "cell_type": "code",
   "execution_count": 9,
   "metadata": {
    "execution": {
     "iopub.execute_input": "2025-04-23T07:48:13.153760Z",
     "iopub.status.busy": "2025-04-23T07:48:13.153241Z",
     "iopub.status.idle": "2025-04-23T07:48:22.852320Z",
     "shell.execute_reply": "2025-04-23T07:48:22.851351Z",
     "shell.execute_reply.started": "2025-04-23T07:48:13.153722Z"
    }
   },
   "outputs": [
    {
     "data": {
      "text/html": [
       "<div>\n",
       "<style scoped>\n",
       "    .dataframe tbody tr th:only-of-type {\n",
       "        vertical-align: middle;\n",
       "    }\n",
       "\n",
       "    .dataframe tbody tr th {\n",
       "        vertical-align: top;\n",
       "    }\n",
       "\n",
       "    .dataframe thead th {\n",
       "        text-align: right;\n",
       "    }\n",
       "</style>\n",
       "<table border=\"1\" class=\"dataframe\">\n",
       "  <thead>\n",
       "    <tr style=\"text-align: right;\">\n",
       "      <th></th>\n",
       "      <th>hash_id</th>\n",
       "      <th>source_name</th>\n",
       "      <th>attributes</th>\n",
       "      <th>cat_id</th>\n",
       "    </tr>\n",
       "  </thead>\n",
       "  <tbody>\n",
       "    <tr>\n",
       "      <th>0</th>\n",
       "      <td>00002c14676b6a5c02d01fd82a92bd50</td>\n",
       "      <td>Бойник барабана для стиральной машины Candy, V...</td>\n",
       "      <td>[{\"\"attribute_id\"\":8,\"\"attribute_name\"\":\"\"Пост...</td>\n",
       "      <td>10501</td>\n",
       "    </tr>\n",
       "    <tr>\n",
       "      <th>1</th>\n",
       "      <td>00002d434ee4516d75b9e99cb4b6b4fb</td>\n",
       "      <td>Приемное устройство М1 TDM Уютный дом в монтаж...</td>\n",
       "      <td>[{\"\"attribute_id\"\":8,\"\"attribute_name\"\":\"\"Пост...</td>\n",
       "      <td>140</td>\n",
       "    </tr>\n",
       "    <tr>\n",
       "      <th>2</th>\n",
       "      <td>000055da1f1a715b7a8c955e4002ade2</td>\n",
       "      <td>Духовой шкаф электрический Darina 1U5 BDE 112 ...</td>\n",
       "      <td>[{\"\"attribute_id\"\":6,\"\"attribute_name\"\":\"\"Штри...</td>\n",
       "      <td>1397</td>\n",
       "    </tr>\n",
       "    <tr>\n",
       "      <th>3</th>\n",
       "      <td>000065493de83bdbacf9093b9e139cbb</td>\n",
       "      <td>Коврик для мыши 40*70 см Genshin Impact Desk M...</td>\n",
       "      <td>[{\"\"attribute_id\"\":8,\"\"attribute_name\"\":\"\"Пост...</td>\n",
       "      <td>3645</td>\n",
       "    </tr>\n",
       "    <tr>\n",
       "      <th>4</th>\n",
       "      <td>00006bee8d0f6056ac09833a2cee2b8c</td>\n",
       "      <td>Ripo Кабель для интернет-соединения, серый</td>\n",
       "      <td>[{\"\"attribute_id\"\":8,\"\"attribute_name\"\":\"\"Пост...</td>\n",
       "      <td>10421</td>\n",
       "    </tr>\n",
       "  </tbody>\n",
       "</table>\n",
       "</div>"
      ],
      "text/plain": [
       "                            hash_id  \\\n",
       "0  00002c14676b6a5c02d01fd82a92bd50   \n",
       "1  00002d434ee4516d75b9e99cb4b6b4fb   \n",
       "2  000055da1f1a715b7a8c955e4002ade2   \n",
       "3  000065493de83bdbacf9093b9e139cbb   \n",
       "4  00006bee8d0f6056ac09833a2cee2b8c   \n",
       "\n",
       "                                         source_name  \\\n",
       "0  Бойник барабана для стиральной машины Candy, V...   \n",
       "1  Приемное устройство М1 TDM Уютный дом в монтаж...   \n",
       "2  Духовой шкаф электрический Darina 1U5 BDE 112 ...   \n",
       "3  Коврик для мыши 40*70 см Genshin Impact Desk M...   \n",
       "4         Ripo Кабель для интернет-соединения, серый   \n",
       "\n",
       "                                          attributes  cat_id  \n",
       "0  [{\"\"attribute_id\"\":8,\"\"attribute_name\"\":\"\"Пост...   10501  \n",
       "1  [{\"\"attribute_id\"\":8,\"\"attribute_name\"\":\"\"Пост...     140  \n",
       "2  [{\"\"attribute_id\"\":6,\"\"attribute_name\"\":\"\"Штри...    1397  \n",
       "3  [{\"\"attribute_id\"\":8,\"\"attribute_name\"\":\"\"Пост...    3645  \n",
       "4  [{\"\"attribute_id\"\":8,\"\"attribute_name\"\":\"\"Пост...   10421  "
      ]
     },
     "execution_count": 9,
     "metadata": {},
     "output_type": "execute_result"
    }
   ],
   "source": [
    "labeled_train = pd.read_parquet('data/labeled_train.parquet')\n",
    "labeled_train.head()"
   ]
  },
  {
   "cell_type": "markdown",
   "metadata": {},
   "source": [
    "##### Типичное описание товара."
   ]
  },
  {
   "cell_type": "code",
   "execution_count": 10,
   "metadata": {
    "execution": {
     "iopub.execute_input": "2025-04-23T07:49:05.563464Z",
     "iopub.status.busy": "2025-04-23T07:49:05.563086Z",
     "iopub.status.idle": "2025-04-23T07:49:05.571772Z",
     "shell.execute_reply": "2025-04-23T07:49:05.570928Z",
     "shell.execute_reply.started": "2025-04-23T07:49:05.563438Z"
    }
   },
   "outputs": [
    {
     "data": {
      "text/plain": [
       "'Бойник барабана для стиральной машины Candy, Vestel, Bompani, Whirlpool'"
      ]
     },
     "execution_count": 10,
     "metadata": {},
     "output_type": "execute_result"
    }
   ],
   "source": [
    "labeled_train.loc[0, 'source_name']"
   ]
  },
  {
   "cell_type": "markdown",
   "metadata": {},
   "source": [
    "##### Пример доступных атрибутов для товара."
   ]
  },
  {
   "cell_type": "code",
   "execution_count": 16,
   "metadata": {
    "execution": {
     "iopub.execute_input": "2025-04-23T07:56:58.796872Z",
     "iopub.status.busy": "2025-04-23T07:56:58.796214Z",
     "iopub.status.idle": "2025-04-23T07:56:58.802988Z",
     "shell.execute_reply": "2025-04-23T07:56:58.801742Z",
     "shell.execute_reply.started": "2025-04-23T07:56:58.796843Z"
    }
   },
   "outputs": [
    {
     "name": "stdout",
     "output_type": "stream",
     "text": [
      "Поставщик: Нет бренда\n",
      "Возможность самовывоза: Да\n",
      "Возможность доставки: Нет\n",
      "Гарантия: Нет\n",
      "Страна: Турция\n",
      "Вес: 100\n",
      "Материал: Пластик\n",
      "Размер: Длина 18 Ширина 5 Высота 5\n",
      "Ширина упаковки: 5\n",
      "Высота упаковки: 5\n",
      "В наличии: Да\n",
      "Ebsmstock: Нет\n",
      "Модель устройства: КХ-0012297\n",
      "Название: Бойник барабана для стиральной машины Candy, Vestel, Bompani, Whirlpool\n",
      "Глубина упаковки: 18\n"
     ]
    }
   ],
   "source": [
    "attrs = labeled_train.loc[0, 'attributes'].replace('\"\"', '\"')\n",
    "\n",
    "for d in json.loads(attrs):\n",
    "    print(f\"{d['attribute_name']}: {d['attribute_value']}\")"
   ]
  },
  {
   "cell_type": "markdown",
   "metadata": {},
   "source": [
    "##### В размеченной выборке представлены всего лишь 776 из 1896 возможных категорий товаров. Остальные категории - в неразмеченной выборке."
   ]
  },
  {
   "cell_type": "code",
   "execution_count": 17,
   "metadata": {
    "execution": {
     "iopub.execute_input": "2025-04-23T07:59:35.832694Z",
     "iopub.status.busy": "2025-04-23T07:59:35.832357Z",
     "iopub.status.idle": "2025-04-23T07:59:35.843961Z",
     "shell.execute_reply": "2025-04-23T07:59:35.842962Z",
     "shell.execute_reply.started": "2025-04-23T07:59:35.832672Z"
    }
   },
   "outputs": [
    {
     "data": {
      "text/plain": [
       "1896"
      ]
     },
     "execution_count": 17,
     "metadata": {},
     "output_type": "execute_result"
    }
   ],
   "source": [
    "cat_tree['cat_id'].nunique()"
   ]
  },
  {
   "cell_type": "code",
   "execution_count": 18,
   "metadata": {
    "execution": {
     "iopub.execute_input": "2025-04-23T08:00:04.742213Z",
     "iopub.status.busy": "2025-04-23T08:00:04.741881Z",
     "iopub.status.idle": "2025-04-23T08:00:04.755429Z",
     "shell.execute_reply": "2025-04-23T08:00:04.754468Z",
     "shell.execute_reply.started": "2025-04-23T08:00:04.742182Z"
    }
   },
   "outputs": [
    {
     "data": {
      "text/plain": [
       "776"
      ]
     },
     "execution_count": 18,
     "metadata": {},
     "output_type": "execute_result"
    }
   ],
   "source": [
    "labeled_train['cat_id'].nunique()"
   ]
  },
  {
   "cell_type": "markdown",
   "metadata": {},
   "source": [
    "# Неразмеченная выборка"
   ]
  },
  {
   "cell_type": "markdown",
   "metadata": {},
   "source": [
    "##### Всё то же самое, что и в размеченной выборке, только нет разметки."
   ]
  },
  {
   "cell_type": "code",
   "execution_count": 19,
   "metadata": {
    "execution": {
     "iopub.execute_input": "2025-04-23T08:09:51.854304Z",
     "iopub.status.busy": "2025-04-23T08:09:51.853938Z",
     "iopub.status.idle": "2025-04-23T08:10:01.816694Z",
     "shell.execute_reply": "2025-04-23T08:10:01.815750Z",
     "shell.execute_reply.started": "2025-04-23T08:09:51.854278Z"
    }
   },
   "outputs": [
    {
     "data": {
      "text/html": [
       "<div>\n",
       "<style scoped>\n",
       "    .dataframe tbody tr th:only-of-type {\n",
       "        vertical-align: middle;\n",
       "    }\n",
       "\n",
       "    .dataframe tbody tr th {\n",
       "        vertical-align: top;\n",
       "    }\n",
       "\n",
       "    .dataframe thead th {\n",
       "        text-align: right;\n",
       "    }\n",
       "</style>\n",
       "<table border=\"1\" class=\"dataframe\">\n",
       "  <thead>\n",
       "    <tr style=\"text-align: right;\">\n",
       "      <th></th>\n",
       "      <th>hash_id</th>\n",
       "      <th>source_name</th>\n",
       "      <th>attributes</th>\n",
       "    </tr>\n",
       "  </thead>\n",
       "  <tbody>\n",
       "    <tr>\n",
       "      <th>0</th>\n",
       "      <td>00003f6d7156ab7dd81559d2e89e654b</td>\n",
       "      <td>Комплект фиксации KICT CU-332</td>\n",
       "      <td>[{\"\"attribute_id\"\":8,\"\"attribute_name\"\":\"\"Пост...</td>\n",
       "    </tr>\n",
       "    <tr>\n",
       "      <th>1</th>\n",
       "      <td>00004c8bf2441cf19f14d6a6aea1232d</td>\n",
       "      <td>Посудомоечная машина Vestel DF45E51W белый</td>\n",
       "      <td>[{\"\"attribute_id\"\":6,\"\"attribute_name\"\":\"\"Штри...</td>\n",
       "    </tr>\n",
       "    <tr>\n",
       "      <th>2</th>\n",
       "      <td>0000586116fc227ad1874d6e940d1061</td>\n",
       "      <td>Уплотнитель для двери холодильника. Подходит д...</td>\n",
       "      <td>[{\"\"attribute_id\"\":8,\"\"attribute_name\"\":\"\"Пост...</td>\n",
       "    </tr>\n",
       "    <tr>\n",
       "      <th>3</th>\n",
       "      <td>000062402dc255a480a4b8d10e02d0fb</td>\n",
       "      <td>Кронштейн для телевизора 32\"\"-55\"\" дюймов KALO...</td>\n",
       "      <td>[{\"\"attribute_id\"\":5,\"\"attribute_name\"\":\"\"Длин...</td>\n",
       "    </tr>\n",
       "    <tr>\n",
       "      <th>4</th>\n",
       "      <td>00007882571db37ded5be37206c59a60</td>\n",
       "      <td>Unimania Держатель для телефона автомобильный ...</td>\n",
       "      <td>[{\"\"attribute_id\"\":8,\"\"attribute_name\"\":\"\"Пост...</td>\n",
       "    </tr>\n",
       "  </tbody>\n",
       "</table>\n",
       "</div>"
      ],
      "text/plain": [
       "                            hash_id  \\\n",
       "0  00003f6d7156ab7dd81559d2e89e654b   \n",
       "1  00004c8bf2441cf19f14d6a6aea1232d   \n",
       "2  0000586116fc227ad1874d6e940d1061   \n",
       "3  000062402dc255a480a4b8d10e02d0fb   \n",
       "4  00007882571db37ded5be37206c59a60   \n",
       "\n",
       "                                         source_name  \\\n",
       "0                      Комплект фиксации KICT CU-332   \n",
       "1         Посудомоечная машина Vestel DF45E51W белый   \n",
       "2  Уплотнитель для двери холодильника. Подходит д...   \n",
       "3  Кронштейн для телевизора 32\"\"-55\"\" дюймов KALO...   \n",
       "4  Unimania Держатель для телефона автомобильный ...   \n",
       "\n",
       "                                          attributes  \n",
       "0  [{\"\"attribute_id\"\":8,\"\"attribute_name\"\":\"\"Пост...  \n",
       "1  [{\"\"attribute_id\"\":6,\"\"attribute_name\"\":\"\"Штри...  \n",
       "2  [{\"\"attribute_id\"\":8,\"\"attribute_name\"\":\"\"Пост...  \n",
       "3  [{\"\"attribute_id\"\":5,\"\"attribute_name\"\":\"\"Длин...  \n",
       "4  [{\"\"attribute_id\"\":8,\"\"attribute_name\"\":\"\"Пост...  "
      ]
     },
     "execution_count": 19,
     "metadata": {},
     "output_type": "execute_result"
    }
   ],
   "source": [
    "unlabeled_train = pd.read_parquet('data/unlabeled_train.parquet')\n",
    "unlabeled_train.head()"
   ]
  }
 ],
 "metadata": {
  "kaggle": {
   "accelerator": "none",
   "dataSources": [
    {
     "datasetId": 6726782,
     "sourceId": 10832620,
     "sourceType": "datasetVersion"
    }
   ],
   "dockerImageVersionId": 31012,
   "isGpuEnabled": false,
   "isInternetEnabled": true,
   "language": "python",
   "sourceType": "notebook"
  },
  "kernelspec": {
   "display_name": "Python 3 (ipykernel)",
   "language": "python",
   "name": "python3"
  },
  "language_info": {
   "codemirror_mode": {
    "name": "ipython",
    "version": 3
   },
   "file_extension": ".py",
   "mimetype": "text/x-python",
   "name": "python",
   "nbconvert_exporter": "python",
   "pygments_lexer": "ipython3",
   "version": "3.13.3"
  }
 },
 "nbformat": 4,
 "nbformat_minor": 4
}
